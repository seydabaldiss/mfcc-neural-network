{
  "nbformat": 4,
  "nbformat_minor": 0,
  "metadata": {
    "colab": {
      "provenance": []
    },
    "kernelspec": {
      "name": "python3",
      "display_name": "Python 3"
    },
    "language_info": {
      "name": "python"
    }
  },
  "cells": [
    {
      "cell_type": "code",
      "execution_count": 48,
      "metadata": {
        "id": "dZfzxdGTahfp",
        "colab": {
          "base_uri": "https://localhost:8080/"
        },
        "outputId": "ae730997-e0bc-4526-9edb-6a2e17b6389a"
      },
      "outputs": [
        {
          "output_type": "stream",
          "name": "stdout",
          "text": [
            "Sound Source/Calm\n",
            "Sound Source/Happy\n",
            "Sound Source/Angry\n",
            "Sound Source/Sad\n",
            "0.6801152737752162\n",
            "relu\n",
            "adam\n"
          ]
        }
      ],
      "source": [
        "from glob import glob\n",
        "import numpy as np\n",
        "from scipy.io import wavfile\n",
        "from python_speech_features import mfcc\n",
        "from sklearn.neural_network import MLPClassifier\n",
        "from sklearn.model_selection import train_test_split\n",
        "\n",
        "datasets_dir = \"Sound Source//\"\n",
        "input_folder_list = glob(datasets_dir+\"*\")\n",
        "\n",
        "max_len = 250\n",
        "\n",
        "audio_inputs = []\n",
        "audio_targets = []\n",
        "target_id = -1\n",
        "\n",
        "#veriyi okuduk\n",
        "for input_folder in input_folder_list:\n",
        "    if(input_folder == \"Sound Source/.ipynb_checkpoints\"):\n",
        "        continue\n",
        "\n",
        "    print(input_folder)\n",
        "    waw_files = glob(input_folder + \"/*\")\n",
        "    target_id += 1\n",
        "    for waw_file in waw_files:\n",
        "        sampling_freq, audio = wavfile.read(waw_file)\n",
        "        mfcc_feat = mfcc(audio, sampling_freq, nfft=2048)\n",
        "        number_of_pad = max_len - mfcc_feat.shape[0]\n",
        "        paddings = np.zeros((number_of_pad, mfcc_feat.shape[1]))\n",
        "        mfcc_feat = np.concatenate((mfcc_feat, paddings))\n",
        "        audio_inputs.append(mfcc_feat)\n",
        "        audio_targets.append(target_id)\n",
        "\n",
        "audio_inputs = np.array(audio_inputs)\n",
        "audio_targets = np.array(audio_targets)\n",
        "\n",
        "audio_inputs = np.reshape(audio_inputs, (audio_inputs.shape[0], -1))\n",
        "x_train, x_test, y_train, y_test = train_test_split(audio_inputs, audio_targets, test_size=0.2)\n",
        "\n",
        "activation_array = [\"identity\", \"logistic\", \"tanh\", \"relu\"]\n",
        "solver_array = [\"lbfgs\", \"sgd\", \"adam\"]\n",
        "\n",
        "best_score = 0.0\n",
        "best_activation = 0\n",
        "best_solver = 0\n",
        "\n",
        "\n",
        "#modelleri eğitip karşılaştırdık\n",
        "for activation in activation_array:\n",
        "  for solver in solver_array:\n",
        "    mlp_clf = MLPClassifier(hidden_layer_sizes=(100,),\n",
        "                            max_iter=1000,\n",
        "                            activation=activation,\n",
        "                            solver=solver)\n",
        "    mlp_clf.fit(x_train, y_train)\n",
        "    score=mlp_clf.score(x_test,y_test)\n",
        "\n",
        "    if score > best_score:\n",
        "      best_score = score\n",
        "      best_activation = activation\n",
        "      best_solver = solver\n",
        "\n",
        "print(best_score)\n",
        "print(best_activation)\n",
        "print(best_solver)"
      ]
    },
    {
      "cell_type": "code",
      "source": [],
      "metadata": {
        "id": "DH7MreDqAoev"
      },
      "execution_count": null,
      "outputs": []
    },
    {
      "cell_type": "code",
      "source": [],
      "metadata": {
        "id": "9Mup6FiUmlBE"
      },
      "execution_count": null,
      "outputs": []
    },
    {
      "cell_type": "code",
      "source": [
        "! pip install numpy"
      ],
      "metadata": {
        "id": "_nvh2Kxkm1-s",
        "colab": {
          "base_uri": "https://localhost:8080/"
        },
        "outputId": "4b0d7f27-143d-47c0-bfec-d7f08e7f5aa1"
      },
      "execution_count": 20,
      "outputs": [
        {
          "output_type": "stream",
          "name": "stdout",
          "text": [
            "Requirement already satisfied: numpy in /usr/local/lib/python3.10/dist-packages (1.25.2)\n"
          ]
        }
      ]
    },
    {
      "cell_type": "code",
      "source": [
        "!pip install [python_speech_features]"
      ],
      "metadata": {
        "colab": {
          "base_uri": "https://localhost:8080/"
        },
        "id": "_8xSemrck7dC",
        "outputId": "63f9cbf0-ff92-402d-96a7-5d25beb58443"
      },
      "execution_count": null,
      "outputs": [
        {
          "output_type": "stream",
          "name": "stdout",
          "text": [
            "\u001b[31mERROR: Invalid requirement: '[python_speech_features]'\u001b[0m\u001b[31m\n",
            "\u001b[0m"
          ]
        }
      ]
    },
    {
      "cell_type": "code",
      "source": [
        "pip install [python_speech_features]"
      ],
      "metadata": {
        "colab": {
          "base_uri": "https://localhost:8080/"
        },
        "id": "BMviSqUek2D5",
        "outputId": "9078afb7-2684-4375-ad5d-80143af0dc9d"
      },
      "execution_count": null,
      "outputs": [
        {
          "output_type": "stream",
          "name": "stdout",
          "text": [
            "\u001b[31mERROR: Invalid requirement: '[python_speech_features]'\u001b[0m\u001b[31m\n",
            "\u001b[0m"
          ]
        }
      ]
    },
    {
      "cell_type": "code",
      "source": [
        "!pip install python_speech_features"
      ],
      "metadata": {
        "colab": {
          "base_uri": "https://localhost:8080/"
        },
        "id": "dMPsWDQclgcK",
        "outputId": "028a8ba4-3ea6-4c00-ab96-6dbb8aecb35d"
      },
      "execution_count": null,
      "outputs": [
        {
          "output_type": "stream",
          "name": "stdout",
          "text": [
            "Requirement already satisfied: python_speech_features in /usr/local/lib/python3.10/dist-packages (0.6)\n"
          ]
        }
      ]
    }
  ]
}